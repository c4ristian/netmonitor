{
 "cells": [
  {
   "cell_type": "markdown",
   "metadata": {},
   "source": [
    "## Basic network monitor\n",
    "This notebook implements a simple network monitor to analyse the remote\n",
    "network connections and traffic of this machine"
   ]
  },
  {
   "cell_type": "code",
   "execution_count": null,
   "metadata": {
    "pycharm": {
     "name": "#%%\n"
    }
   },
   "outputs": [],
   "source": [
    "# Imports\n",
    "import time\n",
    "import urllib3\n",
    "import nbutils\n",
    "import netmonitor.commons as com"
   ]
  },
  {
   "cell_type": "code",
   "execution_count": null,
   "metadata": {
    "pycharm": {
     "name": "#%%\n"
    }
   },
   "outputs": [],
   "source": [
    "# Global settings\n",
    "SECONDS_DELAY = 5\n",
    "LOOK_UP_IPS = True\n",
    "\n",
    "nbutils.set_default_pd_options()"
   ]
  },
  {
   "cell_type": "markdown",
   "metadata": {},
   "source": [
    "### Connections"
   ]
  },
  {
   "cell_type": "code",
   "execution_count": null,
   "metadata": {
    "pycharm": {
     "name": "#%%\n"
    }
   },
   "outputs": [],
   "source": [
    "# Get snapshot of network connections\n",
    "con_frame = com.get_connection_snapshot()"
   ]
  },
  {
   "cell_type": "code",
   "execution_count": null,
   "metadata": {
    "pycharm": {
     "name": "#%%\n"
    }
   },
   "outputs": [],
   "source": [
    "# Remove local IP addresses\n",
    "con_frame = con_frame[~con_frame[\"ip_local\"]].copy()"
   ]
  },
  {
   "cell_type": "code",
   "execution_count": null,
   "metadata": {
    "pycharm": {
     "name": "#%%\n"
    }
   },
   "outputs": [],
   "source": [
    "# Look up process names\n",
    "con_frame[\"process\"] = con_frame[\"pid\"].apply(com.get_process_name)"
   ]
  },
  {
   "cell_type": "code",
   "execution_count": null,
   "metadata": {
    "pycharm": {
     "name": "#%%\n"
    }
   },
   "outputs": [],
   "source": [
    "# Look up IPs\n",
    "if LOOK_UP_IPS and len(con_frame) > 0:\n",
    "    pool_manager = urllib3.PoolManager()\n",
    "    con_frame[\"ip_infos\"] = con_frame[\"ip_address\"].apply(\n",
    "        com.get_ip_infos, args=(pool_manager,))\n",
    "    con_frame[\"ip_org\"], con_frame[\"ip_country\"] = zip(*con_frame[\"ip_infos\"])\n",
    "else:\n",
    "    con_frame[\"ip_org\"] = \"\"*len(con_frame)\n",
    "    con_frame[\"ip_country\"] = \"\"*len(con_frame)"
   ]
  },
  {
   "cell_type": "code",
   "execution_count": null,
   "metadata": {
    "pycharm": {
     "name": "#%%\n"
    }
   },
   "outputs": [],
   "source": [
    "# Print connections\n",
    "cols = [\"ip_address\", \"port\", \"ip_org\", \"ip_country\", \"pid\", \"process\", \"status\"]\n",
    "print(con_frame[cols])"
   ]
  },
  {
   "cell_type": "markdown",
   "metadata": {
    "pycharm": {
     "name": "#%% md\n"
    }
   },
   "source": [
    "### Traffic"
   ]
  },
  {
   "cell_type": "markdown",
   "metadata": {
    "pycharm": {
     "name": "#%% md\n"
    }
   },
   "source": [
    "#### Absolute"
   ]
  },
  {
   "cell_type": "code",
   "execution_count": null,
   "metadata": {
    "pycharm": {
     "name": "#%%\n"
    }
   },
   "outputs": [],
   "source": [
    "# Get traffic snapshot\n",
    "traffic_frame1 = com.get_traffic_snapshot()\n",
    "traffic_frame1 = traffic_frame1.sort_values(by=\"network_interface\")\n",
    "print(traffic_frame1)"
   ]
  },
  {
   "cell_type": "markdown",
   "metadata": {
    "pycharm": {
     "name": "#%% md\n"
    }
   },
   "source": [
    "#### Diff"
   ]
  },
  {
   "cell_type": "code",
   "execution_count": null,
   "metadata": {
    "pycharm": {
     "name": "#%%\n"
    }
   },
   "outputs": [],
   "source": [
    "# Get second traffic snapshot and calculate diff\n",
    "print(f\"Calculating diff in {SECONDS_DELAY} seconds...\\n\")\n",
    "time.sleep(SECONDS_DELAY)\n",
    "\n",
    "traffic_frame2 = com.get_traffic_snapshot()\n",
    "traffic_frame2 = traffic_frame2.sort_values(by=\"network_interface\")\n",
    "\n",
    "diff_columns = [\"packets_recv\", \"packets_sent\", \"bytes_recv\", \"bytes_sent\"]\n",
    "diff_frame = traffic_frame2[diff_columns] - traffic_frame1[diff_columns]\n",
    "\n",
    "print_frame = traffic_frame1[[\"network_interface\"]]\n",
    "print_frame = print_frame.join(diff_frame)\n",
    "\n",
    "print(print_frame)"
   ]
  }
 ],
 "metadata": {
  "kernelspec": {
   "display_name": "netmonitor",
   "language": "python",
   "name": "netmonitor"
  },
  "language_info": {
   "codemirror_mode": {
    "name": "ipython",
    "version": 3
   },
   "file_extension": ".py",
   "mimetype": "text/x-python",
   "name": "python",
   "nbconvert_exporter": "python",
   "pygments_lexer": "ipython3",
   "version": "3.8.13"
  }
 },
 "nbformat": 4,
 "nbformat_minor": 1
}